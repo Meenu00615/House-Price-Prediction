{
  "nbformat": 4,
  "nbformat_minor": 0,
  "metadata": {
    "colab": {
      "provenance": []
    },
    "kernelspec": {
      "name": "python3",
      "display_name": "Python 3"
    },
    "language_info": {
      "name": "python"
    }
  },
  "cells": [
    {
      "cell_type": "markdown",
      "source": [
        "##Importing the dataset"
      ],
      "metadata": {
        "id": "miwuNSSFZOfB"
      }
    },
    {
      "cell_type": "code",
      "source": [
        "#imported the dataset\n",
        "import numpy as np\n",
        "import pandas as pd\n",
        "import matplotlib.pyplot as plt\n",
        "import seaborn as sns\n",
        "import sklearn.datasets\n",
        "from sklearn.model_selection import train_test_split\n",
        "from xgboost import XGBRegressor\n",
        "from sklearn import metrics\n"
      ],
      "metadata": {
        "id": "rd0kwxrc9g3u"
      },
      "execution_count": 426,
      "outputs": []
    },
    {
      "cell_type": "code",
      "source": [
        "house_price=sklearn.datasets.fetch_california_housing()"
      ],
      "metadata": {
        "id": "-Ja1T5OVZMTl"
      },
      "execution_count": 427,
      "outputs": []
    },
    {
      "cell_type": "code",
      "source": [
        "#name_of_the_dataset.function_name(imput_arguments)."
      ],
      "metadata": {
        "id": "MEValEkH9RHW"
      },
      "execution_count": 428,
      "outputs": []
    },
    {
      "cell_type": "code",
      "source": [
        "print(house_price)"
      ],
      "metadata": {
        "colab": {
          "base_uri": "https://localhost:8080/"
        },
        "id": "xwgknqv5u3vh",
        "outputId": "c62b3f6b-f5c3-498e-f2d1-3072074337f7"
      },
      "execution_count": 429,
      "outputs": [
        {
          "output_type": "stream",
          "name": "stdout",
          "text": [
            "{'data': array([[   8.3252    ,   41.        ,    6.98412698, ...,    2.55555556,\n",
            "          37.88      , -122.23      ],\n",
            "       [   8.3014    ,   21.        ,    6.23813708, ...,    2.10984183,\n",
            "          37.86      , -122.22      ],\n",
            "       [   7.2574    ,   52.        ,    8.28813559, ...,    2.80225989,\n",
            "          37.85      , -122.24      ],\n",
            "       ...,\n",
            "       [   1.7       ,   17.        ,    5.20554273, ...,    2.3256351 ,\n",
            "          39.43      , -121.22      ],\n",
            "       [   1.8672    ,   18.        ,    5.32951289, ...,    2.12320917,\n",
            "          39.43      , -121.32      ],\n",
            "       [   2.3886    ,   16.        ,    5.25471698, ...,    2.61698113,\n",
            "          39.37      , -121.24      ]]), 'target': array([4.526, 3.585, 3.521, ..., 0.923, 0.847, 0.894]), 'frame': None, 'target_names': ['MedHouseVal'], 'feature_names': ['MedInc', 'HouseAge', 'AveRooms', 'AveBedrms', 'Population', 'AveOccup', 'Latitude', 'Longitude'], 'DESCR': '.. _california_housing_dataset:\\n\\nCalifornia Housing dataset\\n--------------------------\\n\\n**Data Set Characteristics:**\\n\\n    :Number of Instances: 20640\\n\\n    :Number of Attributes: 8 numeric, predictive attributes and the target\\n\\n    :Attribute Information:\\n        - MedInc        median income in block group\\n        - HouseAge      median house age in block group\\n        - AveRooms      average number of rooms per household\\n        - AveBedrms     average number of bedrooms per household\\n        - Population    block group population\\n        - AveOccup      average number of household members\\n        - Latitude      block group latitude\\n        - Longitude     block group longitude\\n\\n    :Missing Attribute Values: None\\n\\nThis dataset was obtained from the StatLib repository.\\nhttps://www.dcc.fc.up.pt/~ltorgo/Regression/cal_housing.html\\n\\nThe target variable is the median house value for California districts,\\nexpressed in hundreds of thousands of dollars ($100,000).\\n\\nThis dataset was derived from the 1990 U.S. census, using one row per census\\nblock group. A block group is the smallest geographical unit for which the U.S.\\nCensus Bureau publishes sample data (a block group typically has a population\\nof 600 to 3,000 people).\\n\\nA household is a group of people residing within a home. Since the average\\nnumber of rooms and bedrooms in this dataset are provided per household, these\\ncolumns may take surprisingly large values for block groups with few households\\nand many empty houses, such as vacation resorts.\\n\\nIt can be downloaded/loaded using the\\n:func:`sklearn.datasets.fetch_california_housing` function.\\n\\n.. topic:: References\\n\\n    - Pace, R. Kelley and Ronald Barry, Sparse Spatial Autoregressions,\\n      Statistics and Probability Letters, 33 (1997) 291-297\\n'}\n"
          ]
        }
      ]
    },
    {
      "cell_type": "code",
      "source": [
        "house_price_df=pd.DataFrame(house_price.data, columns=house_price.feature_names) #created a datframe by the help of pandas"
      ],
      "metadata": {
        "id": "-Myu18Dbu8c2"
      },
      "execution_count": 430,
      "outputs": []
    },
    {
      "cell_type": "code",
      "source": [
        "house_price_df.head() # top values of the dataset"
      ],
      "metadata": {
        "colab": {
          "base_uri": "https://localhost:8080/",
          "height": 206
        },
        "id": "MRT1VA7g9Suc",
        "outputId": "6fa25fc3-e3e1-4286-e61a-a193d5f2e001"
      },
      "execution_count": 431,
      "outputs": [
        {
          "output_type": "execute_result",
          "data": {
            "text/plain": [
              "   MedInc  HouseAge  AveRooms  AveBedrms  Population  AveOccup  Latitude  \\\n",
              "0  8.3252      41.0  6.984127   1.023810       322.0  2.555556     37.88   \n",
              "1  8.3014      21.0  6.238137   0.971880      2401.0  2.109842     37.86   \n",
              "2  7.2574      52.0  8.288136   1.073446       496.0  2.802260     37.85   \n",
              "3  5.6431      52.0  5.817352   1.073059       558.0  2.547945     37.85   \n",
              "4  3.8462      52.0  6.281853   1.081081       565.0  2.181467     37.85   \n",
              "\n",
              "   Longitude  \n",
              "0    -122.23  \n",
              "1    -122.22  \n",
              "2    -122.24  \n",
              "3    -122.25  \n",
              "4    -122.25  "
            ],
            "text/html": [
              "\n",
              "  <div id=\"df-27c2346a-5e6f-4b9b-836c-d02d4053a571\" class=\"colab-df-container\">\n",
              "    <div>\n",
              "<style scoped>\n",
              "    .dataframe tbody tr th:only-of-type {\n",
              "        vertical-align: middle;\n",
              "    }\n",
              "\n",
              "    .dataframe tbody tr th {\n",
              "        vertical-align: top;\n",
              "    }\n",
              "\n",
              "    .dataframe thead th {\n",
              "        text-align: right;\n",
              "    }\n",
              "</style>\n",
              "<table border=\"1\" class=\"dataframe\">\n",
              "  <thead>\n",
              "    <tr style=\"text-align: right;\">\n",
              "      <th></th>\n",
              "      <th>MedInc</th>\n",
              "      <th>HouseAge</th>\n",
              "      <th>AveRooms</th>\n",
              "      <th>AveBedrms</th>\n",
              "      <th>Population</th>\n",
              "      <th>AveOccup</th>\n",
              "      <th>Latitude</th>\n",
              "      <th>Longitude</th>\n",
              "    </tr>\n",
              "  </thead>\n",
              "  <tbody>\n",
              "    <tr>\n",
              "      <th>0</th>\n",
              "      <td>8.3252</td>\n",
              "      <td>41.0</td>\n",
              "      <td>6.984127</td>\n",
              "      <td>1.023810</td>\n",
              "      <td>322.0</td>\n",
              "      <td>2.555556</td>\n",
              "      <td>37.88</td>\n",
              "      <td>-122.23</td>\n",
              "    </tr>\n",
              "    <tr>\n",
              "      <th>1</th>\n",
              "      <td>8.3014</td>\n",
              "      <td>21.0</td>\n",
              "      <td>6.238137</td>\n",
              "      <td>0.971880</td>\n",
              "      <td>2401.0</td>\n",
              "      <td>2.109842</td>\n",
              "      <td>37.86</td>\n",
              "      <td>-122.22</td>\n",
              "    </tr>\n",
              "    <tr>\n",
              "      <th>2</th>\n",
              "      <td>7.2574</td>\n",
              "      <td>52.0</td>\n",
              "      <td>8.288136</td>\n",
              "      <td>1.073446</td>\n",
              "      <td>496.0</td>\n",
              "      <td>2.802260</td>\n",
              "      <td>37.85</td>\n",
              "      <td>-122.24</td>\n",
              "    </tr>\n",
              "    <tr>\n",
              "      <th>3</th>\n",
              "      <td>5.6431</td>\n",
              "      <td>52.0</td>\n",
              "      <td>5.817352</td>\n",
              "      <td>1.073059</td>\n",
              "      <td>558.0</td>\n",
              "      <td>2.547945</td>\n",
              "      <td>37.85</td>\n",
              "      <td>-122.25</td>\n",
              "    </tr>\n",
              "    <tr>\n",
              "      <th>4</th>\n",
              "      <td>3.8462</td>\n",
              "      <td>52.0</td>\n",
              "      <td>6.281853</td>\n",
              "      <td>1.081081</td>\n",
              "      <td>565.0</td>\n",
              "      <td>2.181467</td>\n",
              "      <td>37.85</td>\n",
              "      <td>-122.25</td>\n",
              "    </tr>\n",
              "  </tbody>\n",
              "</table>\n",
              "</div>\n",
              "    <div class=\"colab-df-buttons\">\n",
              "\n",
              "  <div class=\"colab-df-container\">\n",
              "    <button class=\"colab-df-convert\" onclick=\"convertToInteractive('df-27c2346a-5e6f-4b9b-836c-d02d4053a571')\"\n",
              "            title=\"Convert this dataframe to an interactive table.\"\n",
              "            style=\"display:none;\">\n",
              "\n",
              "  <svg xmlns=\"http://www.w3.org/2000/svg\" height=\"24px\" viewBox=\"0 -960 960 960\">\n",
              "    <path d=\"M120-120v-720h720v720H120Zm60-500h600v-160H180v160Zm220 220h160v-160H400v160Zm0 220h160v-160H400v160ZM180-400h160v-160H180v160Zm440 0h160v-160H620v160ZM180-180h160v-160H180v160Zm440 0h160v-160H620v160Z\"/>\n",
              "  </svg>\n",
              "    </button>\n",
              "\n",
              "  <style>\n",
              "    .colab-df-container {\n",
              "      display:flex;\n",
              "      gap: 12px;\n",
              "    }\n",
              "\n",
              "    .colab-df-convert {\n",
              "      background-color: #E8F0FE;\n",
              "      border: none;\n",
              "      border-radius: 50%;\n",
              "      cursor: pointer;\n",
              "      display: none;\n",
              "      fill: #1967D2;\n",
              "      height: 32px;\n",
              "      padding: 0 0 0 0;\n",
              "      width: 32px;\n",
              "    }\n",
              "\n",
              "    .colab-df-convert:hover {\n",
              "      background-color: #E2EBFA;\n",
              "      box-shadow: 0px 1px 2px rgba(60, 64, 67, 0.3), 0px 1px 3px 1px rgba(60, 64, 67, 0.15);\n",
              "      fill: #174EA6;\n",
              "    }\n",
              "\n",
              "    .colab-df-buttons div {\n",
              "      margin-bottom: 4px;\n",
              "    }\n",
              "\n",
              "    [theme=dark] .colab-df-convert {\n",
              "      background-color: #3B4455;\n",
              "      fill: #D2E3FC;\n",
              "    }\n",
              "\n",
              "    [theme=dark] .colab-df-convert:hover {\n",
              "      background-color: #434B5C;\n",
              "      box-shadow: 0px 1px 3px 1px rgba(0, 0, 0, 0.15);\n",
              "      filter: drop-shadow(0px 1px 2px rgba(0, 0, 0, 0.3));\n",
              "      fill: #FFFFFF;\n",
              "    }\n",
              "  </style>\n",
              "\n",
              "    <script>\n",
              "      const buttonEl =\n",
              "        document.querySelector('#df-27c2346a-5e6f-4b9b-836c-d02d4053a571 button.colab-df-convert');\n",
              "      buttonEl.style.display =\n",
              "        google.colab.kernel.accessAllowed ? 'block' : 'none';\n",
              "\n",
              "      async function convertToInteractive(key) {\n",
              "        const element = document.querySelector('#df-27c2346a-5e6f-4b9b-836c-d02d4053a571');\n",
              "        const dataTable =\n",
              "          await google.colab.kernel.invokeFunction('convertToInteractive',\n",
              "                                                    [key], {});\n",
              "        if (!dataTable) return;\n",
              "\n",
              "        const docLinkHtml = 'Like what you see? Visit the ' +\n",
              "          '<a target=\"_blank\" href=https://colab.research.google.com/notebooks/data_table.ipynb>data table notebook</a>'\n",
              "          + ' to learn more about interactive tables.';\n",
              "        element.innerHTML = '';\n",
              "        dataTable['output_type'] = 'display_data';\n",
              "        await google.colab.output.renderOutput(dataTable, element);\n",
              "        const docLink = document.createElement('div');\n",
              "        docLink.innerHTML = docLinkHtml;\n",
              "        element.appendChild(docLink);\n",
              "      }\n",
              "    </script>\n",
              "  </div>\n",
              "\n",
              "\n",
              "<div id=\"df-52e9fdc8-c2fd-4e09-ad9a-655627d02c49\">\n",
              "  <button class=\"colab-df-quickchart\" onclick=\"quickchart('df-52e9fdc8-c2fd-4e09-ad9a-655627d02c49')\"\n",
              "            title=\"Suggest charts\"\n",
              "            style=\"display:none;\">\n",
              "\n",
              "<svg xmlns=\"http://www.w3.org/2000/svg\" height=\"24px\"viewBox=\"0 0 24 24\"\n",
              "     width=\"24px\">\n",
              "    <g>\n",
              "        <path d=\"M19 3H5c-1.1 0-2 .9-2 2v14c0 1.1.9 2 2 2h14c1.1 0 2-.9 2-2V5c0-1.1-.9-2-2-2zM9 17H7v-7h2v7zm4 0h-2V7h2v10zm4 0h-2v-4h2v4z\"/>\n",
              "    </g>\n",
              "</svg>\n",
              "  </button>\n",
              "\n",
              "<style>\n",
              "  .colab-df-quickchart {\n",
              "      --bg-color: #E8F0FE;\n",
              "      --fill-color: #1967D2;\n",
              "      --hover-bg-color: #E2EBFA;\n",
              "      --hover-fill-color: #174EA6;\n",
              "      --disabled-fill-color: #AAA;\n",
              "      --disabled-bg-color: #DDD;\n",
              "  }\n",
              "\n",
              "  [theme=dark] .colab-df-quickchart {\n",
              "      --bg-color: #3B4455;\n",
              "      --fill-color: #D2E3FC;\n",
              "      --hover-bg-color: #434B5C;\n",
              "      --hover-fill-color: #FFFFFF;\n",
              "      --disabled-bg-color: #3B4455;\n",
              "      --disabled-fill-color: #666;\n",
              "  }\n",
              "\n",
              "  .colab-df-quickchart {\n",
              "    background-color: var(--bg-color);\n",
              "    border: none;\n",
              "    border-radius: 50%;\n",
              "    cursor: pointer;\n",
              "    display: none;\n",
              "    fill: var(--fill-color);\n",
              "    height: 32px;\n",
              "    padding: 0;\n",
              "    width: 32px;\n",
              "  }\n",
              "\n",
              "  .colab-df-quickchart:hover {\n",
              "    background-color: var(--hover-bg-color);\n",
              "    box-shadow: 0 1px 2px rgba(60, 64, 67, 0.3), 0 1px 3px 1px rgba(60, 64, 67, 0.15);\n",
              "    fill: var(--button-hover-fill-color);\n",
              "  }\n",
              "\n",
              "  .colab-df-quickchart-complete:disabled,\n",
              "  .colab-df-quickchart-complete:disabled:hover {\n",
              "    background-color: var(--disabled-bg-color);\n",
              "    fill: var(--disabled-fill-color);\n",
              "    box-shadow: none;\n",
              "  }\n",
              "\n",
              "  .colab-df-spinner {\n",
              "    border: 2px solid var(--fill-color);\n",
              "    border-color: transparent;\n",
              "    border-bottom-color: var(--fill-color);\n",
              "    animation:\n",
              "      spin 1s steps(1) infinite;\n",
              "  }\n",
              "\n",
              "  @keyframes spin {\n",
              "    0% {\n",
              "      border-color: transparent;\n",
              "      border-bottom-color: var(--fill-color);\n",
              "      border-left-color: var(--fill-color);\n",
              "    }\n",
              "    20% {\n",
              "      border-color: transparent;\n",
              "      border-left-color: var(--fill-color);\n",
              "      border-top-color: var(--fill-color);\n",
              "    }\n",
              "    30% {\n",
              "      border-color: transparent;\n",
              "      border-left-color: var(--fill-color);\n",
              "      border-top-color: var(--fill-color);\n",
              "      border-right-color: var(--fill-color);\n",
              "    }\n",
              "    40% {\n",
              "      border-color: transparent;\n",
              "      border-right-color: var(--fill-color);\n",
              "      border-top-color: var(--fill-color);\n",
              "    }\n",
              "    60% {\n",
              "      border-color: transparent;\n",
              "      border-right-color: var(--fill-color);\n",
              "    }\n",
              "    80% {\n",
              "      border-color: transparent;\n",
              "      border-right-color: var(--fill-color);\n",
              "      border-bottom-color: var(--fill-color);\n",
              "    }\n",
              "    90% {\n",
              "      border-color: transparent;\n",
              "      border-bottom-color: var(--fill-color);\n",
              "    }\n",
              "  }\n",
              "</style>\n",
              "\n",
              "  <script>\n",
              "    async function quickchart(key) {\n",
              "      const quickchartButtonEl =\n",
              "        document.querySelector('#' + key + ' button');\n",
              "      quickchartButtonEl.disabled = true;  // To prevent multiple clicks.\n",
              "      quickchartButtonEl.classList.add('colab-df-spinner');\n",
              "      try {\n",
              "        const charts = await google.colab.kernel.invokeFunction(\n",
              "            'suggestCharts', [key], {});\n",
              "      } catch (error) {\n",
              "        console.error('Error during call to suggestCharts:', error);\n",
              "      }\n",
              "      quickchartButtonEl.classList.remove('colab-df-spinner');\n",
              "      quickchartButtonEl.classList.add('colab-df-quickchart-complete');\n",
              "    }\n",
              "    (() => {\n",
              "      let quickchartButtonEl =\n",
              "        document.querySelector('#df-52e9fdc8-c2fd-4e09-ad9a-655627d02c49 button');\n",
              "      quickchartButtonEl.style.display =\n",
              "        google.colab.kernel.accessAllowed ? 'block' : 'none';\n",
              "    })();\n",
              "  </script>\n",
              "</div>\n",
              "\n",
              "    </div>\n",
              "  </div>\n"
            ]
          },
          "metadata": {},
          "execution_count": 431
        }
      ]
    },
    {
      "cell_type": "code",
      "source": [
        "#how to include string/category variable in the code"
      ],
      "metadata": {
        "id": "A8FslBBa9vDh"
      },
      "execution_count": 432,
      "outputs": []
    },
    {
      "cell_type": "code",
      "source": [
        "house_price_df.describe(include='all')  #to see the all features of the dataset"
      ],
      "metadata": {
        "colab": {
          "base_uri": "https://localhost:8080/",
          "height": 300
        },
        "id": "FTWP3kkQ9yjJ",
        "outputId": "5ff59fd8-88b9-4b69-f197-fdbf096f42d9"
      },
      "execution_count": 433,
      "outputs": [
        {
          "output_type": "execute_result",
          "data": {
            "text/plain": [
              "             MedInc      HouseAge      AveRooms     AveBedrms    Population  \\\n",
              "count  20640.000000  20640.000000  20640.000000  20640.000000  20640.000000   \n",
              "mean       3.870671     28.639486      5.429000      1.096675   1425.476744   \n",
              "std        1.899822     12.585558      2.474173      0.473911   1132.462122   \n",
              "min        0.499900      1.000000      0.846154      0.333333      3.000000   \n",
              "25%        2.563400     18.000000      4.440716      1.006079    787.000000   \n",
              "50%        3.534800     29.000000      5.229129      1.048780   1166.000000   \n",
              "75%        4.743250     37.000000      6.052381      1.099526   1725.000000   \n",
              "max       15.000100     52.000000    141.909091     34.066667  35682.000000   \n",
              "\n",
              "           AveOccup      Latitude     Longitude  \n",
              "count  20640.000000  20640.000000  20640.000000  \n",
              "mean       3.070655     35.631861   -119.569704  \n",
              "std       10.386050      2.135952      2.003532  \n",
              "min        0.692308     32.540000   -124.350000  \n",
              "25%        2.429741     33.930000   -121.800000  \n",
              "50%        2.818116     34.260000   -118.490000  \n",
              "75%        3.282261     37.710000   -118.010000  \n",
              "max     1243.333333     41.950000   -114.310000  "
            ],
            "text/html": [
              "\n",
              "  <div id=\"df-6da412ed-6ce6-422c-81bd-6742c1904d2b\" class=\"colab-df-container\">\n",
              "    <div>\n",
              "<style scoped>\n",
              "    .dataframe tbody tr th:only-of-type {\n",
              "        vertical-align: middle;\n",
              "    }\n",
              "\n",
              "    .dataframe tbody tr th {\n",
              "        vertical-align: top;\n",
              "    }\n",
              "\n",
              "    .dataframe thead th {\n",
              "        text-align: right;\n",
              "    }\n",
              "</style>\n",
              "<table border=\"1\" class=\"dataframe\">\n",
              "  <thead>\n",
              "    <tr style=\"text-align: right;\">\n",
              "      <th></th>\n",
              "      <th>MedInc</th>\n",
              "      <th>HouseAge</th>\n",
              "      <th>AveRooms</th>\n",
              "      <th>AveBedrms</th>\n",
              "      <th>Population</th>\n",
              "      <th>AveOccup</th>\n",
              "      <th>Latitude</th>\n",
              "      <th>Longitude</th>\n",
              "    </tr>\n",
              "  </thead>\n",
              "  <tbody>\n",
              "    <tr>\n",
              "      <th>count</th>\n",
              "      <td>20640.000000</td>\n",
              "      <td>20640.000000</td>\n",
              "      <td>20640.000000</td>\n",
              "      <td>20640.000000</td>\n",
              "      <td>20640.000000</td>\n",
              "      <td>20640.000000</td>\n",
              "      <td>20640.000000</td>\n",
              "      <td>20640.000000</td>\n",
              "    </tr>\n",
              "    <tr>\n",
              "      <th>mean</th>\n",
              "      <td>3.870671</td>\n",
              "      <td>28.639486</td>\n",
              "      <td>5.429000</td>\n",
              "      <td>1.096675</td>\n",
              "      <td>1425.476744</td>\n",
              "      <td>3.070655</td>\n",
              "      <td>35.631861</td>\n",
              "      <td>-119.569704</td>\n",
              "    </tr>\n",
              "    <tr>\n",
              "      <th>std</th>\n",
              "      <td>1.899822</td>\n",
              "      <td>12.585558</td>\n",
              "      <td>2.474173</td>\n",
              "      <td>0.473911</td>\n",
              "      <td>1132.462122</td>\n",
              "      <td>10.386050</td>\n",
              "      <td>2.135952</td>\n",
              "      <td>2.003532</td>\n",
              "    </tr>\n",
              "    <tr>\n",
              "      <th>min</th>\n",
              "      <td>0.499900</td>\n",
              "      <td>1.000000</td>\n",
              "      <td>0.846154</td>\n",
              "      <td>0.333333</td>\n",
              "      <td>3.000000</td>\n",
              "      <td>0.692308</td>\n",
              "      <td>32.540000</td>\n",
              "      <td>-124.350000</td>\n",
              "    </tr>\n",
              "    <tr>\n",
              "      <th>25%</th>\n",
              "      <td>2.563400</td>\n",
              "      <td>18.000000</td>\n",
              "      <td>4.440716</td>\n",
              "      <td>1.006079</td>\n",
              "      <td>787.000000</td>\n",
              "      <td>2.429741</td>\n",
              "      <td>33.930000</td>\n",
              "      <td>-121.800000</td>\n",
              "    </tr>\n",
              "    <tr>\n",
              "      <th>50%</th>\n",
              "      <td>3.534800</td>\n",
              "      <td>29.000000</td>\n",
              "      <td>5.229129</td>\n",
              "      <td>1.048780</td>\n",
              "      <td>1166.000000</td>\n",
              "      <td>2.818116</td>\n",
              "      <td>34.260000</td>\n",
              "      <td>-118.490000</td>\n",
              "    </tr>\n",
              "    <tr>\n",
              "      <th>75%</th>\n",
              "      <td>4.743250</td>\n",
              "      <td>37.000000</td>\n",
              "      <td>6.052381</td>\n",
              "      <td>1.099526</td>\n",
              "      <td>1725.000000</td>\n",
              "      <td>3.282261</td>\n",
              "      <td>37.710000</td>\n",
              "      <td>-118.010000</td>\n",
              "    </tr>\n",
              "    <tr>\n",
              "      <th>max</th>\n",
              "      <td>15.000100</td>\n",
              "      <td>52.000000</td>\n",
              "      <td>141.909091</td>\n",
              "      <td>34.066667</td>\n",
              "      <td>35682.000000</td>\n",
              "      <td>1243.333333</td>\n",
              "      <td>41.950000</td>\n",
              "      <td>-114.310000</td>\n",
              "    </tr>\n",
              "  </tbody>\n",
              "</table>\n",
              "</div>\n",
              "    <div class=\"colab-df-buttons\">\n",
              "\n",
              "  <div class=\"colab-df-container\">\n",
              "    <button class=\"colab-df-convert\" onclick=\"convertToInteractive('df-6da412ed-6ce6-422c-81bd-6742c1904d2b')\"\n",
              "            title=\"Convert this dataframe to an interactive table.\"\n",
              "            style=\"display:none;\">\n",
              "\n",
              "  <svg xmlns=\"http://www.w3.org/2000/svg\" height=\"24px\" viewBox=\"0 -960 960 960\">\n",
              "    <path d=\"M120-120v-720h720v720H120Zm60-500h600v-160H180v160Zm220 220h160v-160H400v160Zm0 220h160v-160H400v160ZM180-400h160v-160H180v160Zm440 0h160v-160H620v160ZM180-180h160v-160H180v160Zm440 0h160v-160H620v160Z\"/>\n",
              "  </svg>\n",
              "    </button>\n",
              "\n",
              "  <style>\n",
              "    .colab-df-container {\n",
              "      display:flex;\n",
              "      gap: 12px;\n",
              "    }\n",
              "\n",
              "    .colab-df-convert {\n",
              "      background-color: #E8F0FE;\n",
              "      border: none;\n",
              "      border-radius: 50%;\n",
              "      cursor: pointer;\n",
              "      display: none;\n",
              "      fill: #1967D2;\n",
              "      height: 32px;\n",
              "      padding: 0 0 0 0;\n",
              "      width: 32px;\n",
              "    }\n",
              "\n",
              "    .colab-df-convert:hover {\n",
              "      background-color: #E2EBFA;\n",
              "      box-shadow: 0px 1px 2px rgba(60, 64, 67, 0.3), 0px 1px 3px 1px rgba(60, 64, 67, 0.15);\n",
              "      fill: #174EA6;\n",
              "    }\n",
              "\n",
              "    .colab-df-buttons div {\n",
              "      margin-bottom: 4px;\n",
              "    }\n",
              "\n",
              "    [theme=dark] .colab-df-convert {\n",
              "      background-color: #3B4455;\n",
              "      fill: #D2E3FC;\n",
              "    }\n",
              "\n",
              "    [theme=dark] .colab-df-convert:hover {\n",
              "      background-color: #434B5C;\n",
              "      box-shadow: 0px 1px 3px 1px rgba(0, 0, 0, 0.15);\n",
              "      filter: drop-shadow(0px 1px 2px rgba(0, 0, 0, 0.3));\n",
              "      fill: #FFFFFF;\n",
              "    }\n",
              "  </style>\n",
              "\n",
              "    <script>\n",
              "      const buttonEl =\n",
              "        document.querySelector('#df-6da412ed-6ce6-422c-81bd-6742c1904d2b button.colab-df-convert');\n",
              "      buttonEl.style.display =\n",
              "        google.colab.kernel.accessAllowed ? 'block' : 'none';\n",
              "\n",
              "      async function convertToInteractive(key) {\n",
              "        const element = document.querySelector('#df-6da412ed-6ce6-422c-81bd-6742c1904d2b');\n",
              "        const dataTable =\n",
              "          await google.colab.kernel.invokeFunction('convertToInteractive',\n",
              "                                                    [key], {});\n",
              "        if (!dataTable) return;\n",
              "\n",
              "        const docLinkHtml = 'Like what you see? Visit the ' +\n",
              "          '<a target=\"_blank\" href=https://colab.research.google.com/notebooks/data_table.ipynb>data table notebook</a>'\n",
              "          + ' to learn more about interactive tables.';\n",
              "        element.innerHTML = '';\n",
              "        dataTable['output_type'] = 'display_data';\n",
              "        await google.colab.output.renderOutput(dataTable, element);\n",
              "        const docLink = document.createElement('div');\n",
              "        docLink.innerHTML = docLinkHtml;\n",
              "        element.appendChild(docLink);\n",
              "      }\n",
              "    </script>\n",
              "  </div>\n",
              "\n",
              "\n",
              "<div id=\"df-d1fecb20-6452-48bb-86fd-a8a865f22efc\">\n",
              "  <button class=\"colab-df-quickchart\" onclick=\"quickchart('df-d1fecb20-6452-48bb-86fd-a8a865f22efc')\"\n",
              "            title=\"Suggest charts\"\n",
              "            style=\"display:none;\">\n",
              "\n",
              "<svg xmlns=\"http://www.w3.org/2000/svg\" height=\"24px\"viewBox=\"0 0 24 24\"\n",
              "     width=\"24px\">\n",
              "    <g>\n",
              "        <path d=\"M19 3H5c-1.1 0-2 .9-2 2v14c0 1.1.9 2 2 2h14c1.1 0 2-.9 2-2V5c0-1.1-.9-2-2-2zM9 17H7v-7h2v7zm4 0h-2V7h2v10zm4 0h-2v-4h2v4z\"/>\n",
              "    </g>\n",
              "</svg>\n",
              "  </button>\n",
              "\n",
              "<style>\n",
              "  .colab-df-quickchart {\n",
              "      --bg-color: #E8F0FE;\n",
              "      --fill-color: #1967D2;\n",
              "      --hover-bg-color: #E2EBFA;\n",
              "      --hover-fill-color: #174EA6;\n",
              "      --disabled-fill-color: #AAA;\n",
              "      --disabled-bg-color: #DDD;\n",
              "  }\n",
              "\n",
              "  [theme=dark] .colab-df-quickchart {\n",
              "      --bg-color: #3B4455;\n",
              "      --fill-color: #D2E3FC;\n",
              "      --hover-bg-color: #434B5C;\n",
              "      --hover-fill-color: #FFFFFF;\n",
              "      --disabled-bg-color: #3B4455;\n",
              "      --disabled-fill-color: #666;\n",
              "  }\n",
              "\n",
              "  .colab-df-quickchart {\n",
              "    background-color: var(--bg-color);\n",
              "    border: none;\n",
              "    border-radius: 50%;\n",
              "    cursor: pointer;\n",
              "    display: none;\n",
              "    fill: var(--fill-color);\n",
              "    height: 32px;\n",
              "    padding: 0;\n",
              "    width: 32px;\n",
              "  }\n",
              "\n",
              "  .colab-df-quickchart:hover {\n",
              "    background-color: var(--hover-bg-color);\n",
              "    box-shadow: 0 1px 2px rgba(60, 64, 67, 0.3), 0 1px 3px 1px rgba(60, 64, 67, 0.15);\n",
              "    fill: var(--button-hover-fill-color);\n",
              "  }\n",
              "\n",
              "  .colab-df-quickchart-complete:disabled,\n",
              "  .colab-df-quickchart-complete:disabled:hover {\n",
              "    background-color: var(--disabled-bg-color);\n",
              "    fill: var(--disabled-fill-color);\n",
              "    box-shadow: none;\n",
              "  }\n",
              "\n",
              "  .colab-df-spinner {\n",
              "    border: 2px solid var(--fill-color);\n",
              "    border-color: transparent;\n",
              "    border-bottom-color: var(--fill-color);\n",
              "    animation:\n",
              "      spin 1s steps(1) infinite;\n",
              "  }\n",
              "\n",
              "  @keyframes spin {\n",
              "    0% {\n",
              "      border-color: transparent;\n",
              "      border-bottom-color: var(--fill-color);\n",
              "      border-left-color: var(--fill-color);\n",
              "    }\n",
              "    20% {\n",
              "      border-color: transparent;\n",
              "      border-left-color: var(--fill-color);\n",
              "      border-top-color: var(--fill-color);\n",
              "    }\n",
              "    30% {\n",
              "      border-color: transparent;\n",
              "      border-left-color: var(--fill-color);\n",
              "      border-top-color: var(--fill-color);\n",
              "      border-right-color: var(--fill-color);\n",
              "    }\n",
              "    40% {\n",
              "      border-color: transparent;\n",
              "      border-right-color: var(--fill-color);\n",
              "      border-top-color: var(--fill-color);\n",
              "    }\n",
              "    60% {\n",
              "      border-color: transparent;\n",
              "      border-right-color: var(--fill-color);\n",
              "    }\n",
              "    80% {\n",
              "      border-color: transparent;\n",
              "      border-right-color: var(--fill-color);\n",
              "      border-bottom-color: var(--fill-color);\n",
              "    }\n",
              "    90% {\n",
              "      border-color: transparent;\n",
              "      border-bottom-color: var(--fill-color);\n",
              "    }\n",
              "  }\n",
              "</style>\n",
              "\n",
              "  <script>\n",
              "    async function quickchart(key) {\n",
              "      const quickchartButtonEl =\n",
              "        document.querySelector('#' + key + ' button');\n",
              "      quickchartButtonEl.disabled = true;  // To prevent multiple clicks.\n",
              "      quickchartButtonEl.classList.add('colab-df-spinner');\n",
              "      try {\n",
              "        const charts = await google.colab.kernel.invokeFunction(\n",
              "            'suggestCharts', [key], {});\n",
              "      } catch (error) {\n",
              "        console.error('Error during call to suggestCharts:', error);\n",
              "      }\n",
              "      quickchartButtonEl.classList.remove('colab-df-spinner');\n",
              "      quickchartButtonEl.classList.add('colab-df-quickchart-complete');\n",
              "    }\n",
              "    (() => {\n",
              "      let quickchartButtonEl =\n",
              "        document.querySelector('#df-d1fecb20-6452-48bb-86fd-a8a865f22efc button');\n",
              "      quickchartButtonEl.style.display =\n",
              "        google.colab.kernel.accessAllowed ? 'block' : 'none';\n",
              "    })();\n",
              "  </script>\n",
              "</div>\n",
              "\n",
              "    </div>\n",
              "  </div>\n"
            ]
          },
          "metadata": {},
          "execution_count": 433
        }
      ]
    },
    {
      "cell_type": "code",
      "source": [
        "house_price_df.shape #shape row * column of the dataset"
      ],
      "metadata": {
        "colab": {
          "base_uri": "https://localhost:8080/"
        },
        "id": "4aZ2XvdlwfD0",
        "outputId": "024fc85a-6a60-4ed1-dba7-a6b38a904d90"
      },
      "execution_count": 434,
      "outputs": [
        {
          "output_type": "execute_result",
          "data": {
            "text/plain": [
              "(20640, 8)"
            ]
          },
          "metadata": {},
          "execution_count": 434
        }
      ]
    },
    {
      "cell_type": "code",
      "source": [
        "house_price_df.info()"
      ],
      "metadata": {
        "colab": {
          "base_uri": "https://localhost:8080/"
        },
        "id": "KuIE0MsY9yfP",
        "outputId": "f37dbe1a-e3ec-45d2-a566-2ee456120762"
      },
      "execution_count": 435,
      "outputs": [
        {
          "output_type": "stream",
          "name": "stdout",
          "text": [
            "<class 'pandas.core.frame.DataFrame'>\n",
            "RangeIndex: 20640 entries, 0 to 20639\n",
            "Data columns (total 8 columns):\n",
            " #   Column      Non-Null Count  Dtype  \n",
            "---  ------      --------------  -----  \n",
            " 0   MedInc      20640 non-null  float64\n",
            " 1   HouseAge    20640 non-null  float64\n",
            " 2   AveRooms    20640 non-null  float64\n",
            " 3   AveBedrms   20640 non-null  float64\n",
            " 4   Population  20640 non-null  float64\n",
            " 5   AveOccup    20640 non-null  float64\n",
            " 6   Latitude    20640 non-null  float64\n",
            " 7   Longitude   20640 non-null  float64\n",
            "dtypes: float64(8)\n",
            "memory usage: 1.3 MB\n"
          ]
        }
      ]
    },
    {
      "cell_type": "code",
      "source": [
        "#Float are continous variable.\n",
        "##This means For example: 2   Sale Price- 21609 non-null  float64 21613-21609=4 values are not availabe in ROWS\n",
        "#9 ROWS values are not available\n",
        "#How to find descriptive statistics for the single variable"
      ],
      "metadata": {
        "id": "t9tTgBBg9ycp"
      },
      "execution_count": 436,
      "outputs": []
    },
    {
      "cell_type": "code",
      "source": [
        "house_price_df['MedInc'].mean()"
      ],
      "metadata": {
        "colab": {
          "base_uri": "https://localhost:8080/"
        },
        "id": "5PdMQoyh9yaL",
        "outputId": "cd4bb0f4-a669-44ba-e24d-3d5ae24de7bb"
      },
      "execution_count": 437,
      "outputs": [
        {
          "output_type": "execute_result",
          "data": {
            "text/plain": [
              "3.8706710029069766"
            ]
          },
          "metadata": {},
          "execution_count": 437
        }
      ]
    },
    {
      "cell_type": "code",
      "source": [
        "house_price_df['MedInc'].std() #standard deviation of the MedInc column"
      ],
      "metadata": {
        "colab": {
          "base_uri": "https://localhost:8080/"
        },
        "id": "gll1jkqu9yXX",
        "outputId": "068eee23-180b-4392-c0e7-42b06a85bac7"
      },
      "execution_count": 438,
      "outputs": [
        {
          "output_type": "execute_result",
          "data": {
            "text/plain": [
              "1.8998217179452688"
            ]
          },
          "metadata": {},
          "execution_count": 438
        }
      ]
    },
    {
      "cell_type": "code",
      "source": [
        "house_price_df['MedInc'].min()"
      ],
      "metadata": {
        "colab": {
          "base_uri": "https://localhost:8080/"
        },
        "id": "O0jv2q2A9yUx",
        "outputId": "27dcbf9a-1bbb-4ef1-bdfb-c4433cf027e3"
      },
      "execution_count": 439,
      "outputs": [
        {
          "output_type": "execute_result",
          "data": {
            "text/plain": [
              "0.4999"
            ]
          },
          "metadata": {},
          "execution_count": 439
        }
      ]
    },
    {
      "cell_type": "code",
      "source": [
        "house_price_df['MedInc'].quantile(.25)"
      ],
      "metadata": {
        "colab": {
          "base_uri": "https://localhost:8080/"
        },
        "id": "ZHnF7V2z9ySV",
        "outputId": "118ace4f-4ebd-4a1c-98f2-f9ce93854853"
      },
      "execution_count": 440,
      "outputs": [
        {
          "output_type": "execute_result",
          "data": {
            "text/plain": [
              "2.5633999999999997"
            ]
          },
          "metadata": {},
          "execution_count": 440
        }
      ]
    },
    {
      "cell_type": "code",
      "source": [
        "#unique function for the string variable"
      ],
      "metadata": {
        "id": "JCLOYsWy9yPy"
      },
      "execution_count": 441,
      "outputs": []
    },
    {
      "cell_type": "code",
      "source": [
        "house_price_df[\"MedInc\"].unique()"
      ],
      "metadata": {
        "id": "uvJtXmYD9yNU",
        "colab": {
          "base_uri": "https://localhost:8080/"
        },
        "outputId": "e3bb1d8d-06e5-4678-d31b-848b8fd70d4e"
      },
      "execution_count": 442,
      "outputs": [
        {
          "output_type": "execute_result",
          "data": {
            "text/plain": [
              "array([8.3252, 8.3014, 7.2574, ..., 2.3598, 2.3661, 2.0943])"
            ]
          },
          "metadata": {},
          "execution_count": 442
        }
      ]
    },
    {
      "cell_type": "code",
      "source": [
        "#Using the Numpy Library for standard deviation"
      ],
      "metadata": {
        "id": "Z0jRHz7H9yKs"
      },
      "execution_count": 443,
      "outputs": []
    },
    {
      "cell_type": "code",
      "source": [
        "#Library_name.inpuut_name(function_parameteres)\n",
        "np.std(house_price_df['MedInc'])"
      ],
      "metadata": {
        "colab": {
          "base_uri": "https://localhost:8080/"
        },
        "id": "CZQxhcCZ9yIB",
        "outputId": "dbc9e5e6-5823-4707-d4cd-62a40b60cf59"
      },
      "execution_count": 444,
      "outputs": [
        {
          "output_type": "execute_result",
          "data": {
            "text/plain": [
              "1.8997756945748738"
            ]
          },
          "metadata": {},
          "execution_count": 444
        }
      ]
    },
    {
      "cell_type": "markdown",
      "source": [
        "##Plotting and Graphs(Line, Pie and bar Graph)"
      ],
      "metadata": {
        "id": "vu6z1YPvAdJm"
      }
    },
    {
      "cell_type": "code",
      "source": [
        "#Help to discover certain patern and information"
      ],
      "metadata": {
        "id": "QGG7986__-Nf"
      },
      "execution_count": 445,
      "outputs": []
    },
    {
      "cell_type": "code",
      "source": [
        "import matplotlib.pyplot as plt"
      ],
      "metadata": {
        "id": "AA95dqRUAhnU"
      },
      "execution_count": 446,
      "outputs": []
    },
    {
      "cell_type": "markdown",
      "source": [
        "####1.) Line graph"
      ],
      "metadata": {
        "id": "qgdpuG-jAnKU"
      }
    },
    {
      "cell_type": "code",
      "source": [
        "#x-axis-plt.plot(data_set_name(variable_name))"
      ],
      "metadata": {
        "id": "KJ1F9odOAl1R"
      },
      "execution_count": 447,
      "outputs": []
    },
    {
      "cell_type": "code",
      "source": [
        "#y-axis-plt.plot(data_set_name(variable_name))"
      ],
      "metadata": {
        "id": "1pbUkKmnAktR"
      },
      "execution_count": 448,
      "outputs": []
    },
    {
      "cell_type": "code",
      "source": [
        "plt.plot(house_price_df['MedInc'], color='red')   #in red color\n",
        "plt.xlabel(\"Population\")\n",
        "plt.ylabel(\"Median Income\")\n",
        "plt.title(\"Graphical Representaion\")\n",
        "plt.show()"
      ],
      "metadata": {
        "colab": {
          "base_uri": "https://localhost:8080/",
          "height": 472
        },
        "id": "4JmP1glwA3vu",
        "outputId": "912db6db-bb37-4a9a-c479-01aaed23ede7"
      },
      "execution_count": 452,
      "outputs": [
        {
          "output_type": "display_data",
          "data": {
            "text/plain": [
              "<Figure size 640x480 with 1 Axes>"
            ],
            "image/png": "[encoded data removed]"
          },
          "metadata": {}
        }
      ]
    },
    {
      "cell_type": "code",
      "source": [
        "# Group the data based on the condition of the house\n",
        "#groupby function for string and categorical value\n",
        "plt.plot(house_price_df['MedInc'],marker='o', markerfacecolor='blue', markersize=5,color='red',linewidth=5,linestyle='dashed')"
      ],
      "metadata": {
        "colab": {
          "base_uri": "https://localhost:8080/",
          "height": 447
        },
        "id": "CUi5WE7iA7ET",
        "outputId": "e33168c2-2e94-4de0-c695-5e4e14db0721"
      },
      "execution_count": 455,
      "outputs": [
        {
          "output_type": "execute_result",
          "data": {
            "text/plain": [
              "[<matplotlib.lines.Line2D at 0x7b31d2943df0>]"
            ]
          },
          "metadata": {},
          "execution_count": 455
        },
        {
          "output_type": "display_data",
          "data": {
            "text/plain": [
              "<Figure size 640x480 with 1 Axes>"
            ],
            "image/png": "[encoded data removed]"
          },
          "metadata": {}
        }
      ]
    },
    {
      "cell_type": "code",
      "source": [
        "plt.scatter(x=house_price_df['AveRooms'], y=house_price_df['MedInc'], color='green')\n",
        "plt.xlabel('Average Rooms')\n",
        "plt.ylabel(\"Median Income\")\n",
        "plt.title(\"Median Income Vs Average Rooms\")"
      ],
      "metadata": {
        "colab": {
          "base_uri": "https://localhost:8080/",
          "height": 489
        },
        "id": "qVzEvHHjB0ny",
        "outputId": "eb9858dc-1b45-4c01-fbca-30531976eaab"
      },
      "execution_count": 463,
      "outputs": [
        {
          "output_type": "execute_result",
          "data": {
            "text/plain": [
              "Text(0.5, 1.0, 'Median Income Vs Average Rooms')"
            ]
          },
          "metadata": {},
          "execution_count": 463
        },
        {
          "output_type": "display_data",
          "data": {
            "text/plain": [
              "<Figure size 640x480 with 1 Axes>"
            ],
            "image/png": "[encoded data removed]"
          },
          "metadata": {}
        }
      ]
    },
    {
      "cell_type": "code",
      "source": [
        "#histogram is use to plot frequency count(or simple count of records over range of the values a variable can have)"
      ],
      "metadata": {
        "id": "G62cjb7cB0h5"
      },
      "execution_count": 348,
      "outputs": []
    },
    {
      "cell_type": "code",
      "source": [
        "#divide the data into bins"
      ],
      "metadata": {
        "id": "2szSc2-MB0ei"
      },
      "execution_count": 349,
      "outputs": []
    },
    {
      "cell_type": "code",
      "source": [
        "#It will create 100 equal variable"
      ],
      "metadata": {
        "id": "Fz9Af81iB0cC"
      },
      "execution_count": 350,
      "outputs": []
    },
    {
      "cell_type": "code",
      "source": [
        "plt.boxplot(house_price_df['HouseAge'])"
      ],
      "metadata": {
        "colab": {
          "base_uri": "https://localhost:8080/",
          "height": 569
        },
        "id": "W_LPFa2dCDX2",
        "outputId": "618a05d4-803e-4059-9cb6-043d7295bb97"
      },
      "execution_count": 467,
      "outputs": [
        {
          "output_type": "execute_result",
          "data": {
            "text/plain": [
              "{'whiskers': [<matplotlib.lines.Line2D at 0x7b31d24a98d0>,\n",
              "  <matplotlib.lines.Line2D at 0x7b31d24aae60>],\n",
              " 'caps': [<matplotlib.lines.Line2D at 0x7b31d24aa980>,\n",
              "  <matplotlib.lines.Line2D at 0x7b31d24aa3b0>],\n",
              " 'boxes': [<matplotlib.lines.Line2D at 0x7b31d24a9fc0>],\n",
              " 'medians': [<matplotlib.lines.Line2D at 0x7b31d24a9420>],\n",
              " 'fliers': [<matplotlib.lines.Line2D at 0x7b31d24aa530>],\n",
              " 'means': []}"
            ]
          },
          "metadata": {},
          "execution_count": 467
        },
        {
          "output_type": "display_data",
          "data": {
            "text/plain": [
              "<Figure size 640x480 with 1 Axes>"
            ],
            "image/png": "[encoded data removed]"
          },
          "metadata": {}
        }
      ]
    },
    {
      "cell_type": "code",
      "source": [
        "#data is more skewd or center around high values"
      ],
      "metadata": {
        "id": "LJ2T1jgACDVU"
      },
      "execution_count": 353,
      "outputs": []
    },
    {
      "cell_type": "markdown",
      "source": [
        "##Positive and Negative Correlation"
      ],
      "metadata": {
        "id": "gEzh5Oy-rLJL"
      }
    },
    {
      "cell_type": "code",
      "source": [
        "correlation=house_price_df.corr()"
      ],
      "metadata": {
        "id": "dnQqFDLUCDNI"
      },
      "execution_count": 469,
      "outputs": []
    },
    {
      "source": [
        "house_price_df.fillna(house_price_df.mean(), inplace=True)"
      ],
      "cell_type": "code",
      "metadata": {
        "id": "zYHdx9R_sTOp"
      },
      "execution_count": 473,
      "outputs": []
    },
    {
      "cell_type": "code",
      "source": [
        "plt.figure(figsize=(20, 15))\n",
        "\n",
        "sns.heatmap(correlation, cbar=True, square=True, fmt='1f', annot=True, annot_kws={'size':8},cmap='Reds')"
      ],
      "metadata": {
        "colab": {
          "base_uri": "https://localhost:8080/",
          "height": 917
        },
        "id": "1WrwHhcssjhR",
        "outputId": "34538dd4-73a3-4f8b-9722-9229a2fdf2eb"
      },
      "execution_count": 492,
      "outputs": [
        {
          "output_type": "execute_result",
          "data": {
            "text/plain": [
              "<Axes: >"
            ]
          },
          "metadata": {},
          "execution_count": 492
        },
        {
          "output_type": "display_data",
          "data": {
            "text/plain": [
              "<Figure size 2000x1500 with 2 Axes>"
            ],
            "image/png": "[encoded data removed]"
          },
          "metadata": {}
        }
      ]
    },
    {
      "cell_type": "code",
      "source": [
        "X=house_price_df.drop(['MedInc'], axis=1)\n",
        "Y=house_price_df['MedInc']\n",
        "\n",
        "print(X)\n",
        "print(Y)"
      ],
      "metadata": {
        "colab": {
          "base_uri": "https://localhost:8080/"
        },
        "id": "z-_M4TjftL__",
        "outputId": "9489cf02-a29d-4056-dbc1-f62f0ac6c88e"
      },
      "execution_count": 493,
      "outputs": [
        {
          "output_type": "stream",
          "name": "stdout",
          "text": [
            "       HouseAge  AveRooms  AveBedrms  Population  AveOccup  Latitude  \\\n",
            "0          41.0  6.984127   1.023810       322.0  2.555556     37.88   \n",
            "1          21.0  6.238137   0.971880      2401.0  2.109842     37.86   \n",
            "2          52.0  8.288136   1.073446       496.0  2.802260     37.85   \n",
            "3          52.0  5.817352   1.073059       558.0  2.547945     37.85   \n",
            "4          52.0  6.281853   1.081081       565.0  2.181467     37.85   \n",
            "...         ...       ...        ...         ...       ...       ...   \n",
            "20635      25.0  5.045455   1.133333       845.0  2.560606     39.48   \n",
            "20636      18.0  6.114035   1.315789       356.0  3.122807     39.49   \n",
            "20637      17.0  5.205543   1.120092      1007.0  2.325635     39.43   \n",
            "20638      18.0  5.329513   1.171920       741.0  2.123209     39.43   \n",
            "20639      16.0  5.254717   1.162264      1387.0  2.616981     39.37   \n",
            "\n",
            "       Longitude  \n",
            "0        -122.23  \n",
            "1        -122.22  \n",
            "2        -122.24  \n",
            "3        -122.25  \n",
            "4        -122.25  \n",
            "...          ...  \n",
            "20635    -121.09  \n",
            "20636    -121.21  \n",
            "20637    -121.22  \n",
            "20638    -121.32  \n",
            "20639    -121.24  \n",
            "\n",
            "[20640 rows x 7 columns]\n",
            "0        8.3252\n",
            "1        8.3014\n",
            "2        7.2574\n",
            "3        5.6431\n",
            "4        3.8462\n",
            "          ...  \n",
            "20635    1.5603\n",
            "20636    2.5568\n",
            "20637    1.7000\n",
            "20638    1.8672\n",
            "20639    2.3886\n",
            "Name: MedInc, Length: 20640, dtype: float64\n"
          ]
        }
      ]
    },
    {
      "cell_type": "markdown",
      "source": [
        "#Spliting the data into training and test data"
      ],
      "metadata": {
        "id": "YemyYFtnwGrd"
      }
    },
    {
      "cell_type": "code",
      "source": [
        "X_train, X_test, Y_train, Y_test= train_test_split(X, Y, test_size=0.2, random_state=2)\n",
        "#80% and 20% ratio of the split dataset"
      ],
      "metadata": {
        "id": "hye5onY-wGKo"
      },
      "execution_count": 494,
      "outputs": []
    },
    {
      "cell_type": "code",
      "source": [
        "print(X.shape, X_train.shape, X_test.shape)"
      ],
      "metadata": {
        "colab": {
          "base_uri": "https://localhost:8080/"
        },
        "id": "NDiHZigRwrC8",
        "outputId": "90913964-bccb-4eec-bb76-07d505631774"
      },
      "execution_count": 495,
      "outputs": [
        {
          "output_type": "stream",
          "name": "stdout",
          "text": [
            "(20640, 7) (16512, 7) (4128, 7)\n"
          ]
        }
      ]
    },
    {
      "cell_type": "code",
      "source": [
        "#Training using XGBoost- More than one model because of the decision Tree based Ensemble Machine Learning Algorithm"
      ],
      "metadata": {
        "id": "nbKvs5lgxMTB"
      },
      "execution_count": 496,
      "outputs": []
    },
    {
      "cell_type": "code",
      "source": [
        "model=XGBRegressor()"
      ],
      "metadata": {
        "id": "pdlkoRItxtQX"
      },
      "execution_count": 497,
      "outputs": []
    },
    {
      "cell_type": "code",
      "source": [
        "house_price_df.loc[:, 'MedInc'].tolist()  #to see the full column in the dataset"
      ],
      "metadata": {
        "colab": {
          "base_uri": "https://localhost:8080/"
        },
        "id": "k0vYLy-VmrXM",
        "outputId": "a0c088b6-d86b-46ee-dbec-5cb9fc49a574"
      },
      "execution_count": 500,
      "outputs": [
        {
          "output_type": "execute_result",
          "data": {
            "text/plain": [
              "[8.3252,\n",
              " 8.3014,\n",
              " 7.2574,\n",
              " 5.6431,\n",
              " 3.8462,\n",
              " 4.0368,\n",
              " 3.6591,\n",
              " 3.12,\n",
              " 2.0804,\n",
              " 3.6912,\n",
              " 3.2031,\n",
              " 3.2705,\n",
              " 3.075,\n",
              " 2.6736,\n",
              " 1.9167,\n",
              " 2.125,\n",
              " 2.775,\n",
              " 2.1202,\n",
              " 1.9911,\n",
              " 2.6033,\n",
              " 1.3578,\n",
              " 1.7135,\n",
              " 1.725,\n",
              " 2.1806,\n",
              " 2.6,\n",
              " 2.4038,\n",
              " 2.4597,\n",
              " 1.808,\n",
              " 1.6424,\n",
              " 1.6875,\n",
              " 1.9274,\n",
              " 1.9615,\n",
              " 1.7969,\n",
              " 1.375,\n",
              " 2.7303,\n",
              " 1.4861,\n",
              " 1.0972,\n",
              " 1.4103,\n",
              " 3.48,\n",
              " 2.5898,\n",
              " 2.0978,\n",
              " 1.2852,\n",
              " 1.025,\n",
              " 3.9643,\n",
              " 3.0125,\n",
              " 2.6768,\n",
              " 2.026,\n",
              " 1.7348,\n",
              " 0.9506,\n",
              " 1.775,\n",
              " 0.9218,\n",
              " 1.5045,\n",
              " 1.1108,\n",
              " 1.2475,\n",
              " 1.6098,\n",
              " 1.4113,\n",
              " 1.5057,\n",
              " 0.8172,\n",
              " 1.2171,\n",
              " 2.5625,\n",
              " 3.3929,\n",
              " 6.1183,\n",
              " 0.9011,\n",
              " 1.191,\n",
              " 2.5938,\n",
              " 1.1667,\n",
              " 0.8056,\n",
              " 2.6094,\n",
              " 1.8516,\n",
              " 0.9802,\n",
              " 1.7719,\n",
              " 0.7286,\n",
              " 1.75,\n",
              " 0.4999,\n",
              " 2.483,\n",
              " 0.9241,\n",
              " 2.4464,\n",
              " 1.1111,\n",
              " 0.8026,\n",
              " 2.0114,\n",
              " 1.5,\n",
              " 1.1667,\n",
              " 1.5208,\n",
              " 0.8075,\n",
              " 1.8088,\n",
              " 2.4083,\n",
              " 0.977,\n",
              " 0.76,\n",
              " 0.9722,\n",
              " 1.2434,\n",
              " 2.0938,\n",
              " 0.8668,\n",
              " 0.75,\n",
              " 2.6354,\n",
              " 1.8477,\n",
              " 2.0096,\n",
              " 2.8345,\n",
              " 2.0062,\n",
              " 1.2185,\n",
              " 2.6104,\n",
              " 2.4912,\n",
              " 3.2177,\n",
              " 3.125,\n",
              " 2.5795,\n",
              " 2.8406,\n",
              " 4.9306,\n",
              " 3.2727,\n",
              " 3.1691,\n",
              " 3.9,\n",
              " 3.9063,\n",
              " 5.0917,\n",
              " 2.6429,\n",
              " 3.0233,\n",
              " 3.1484,\n",
              " 3.4722,\n",
              " 3.1429,\n",
              " 2.4234,\n",
              " 3.0897,\n",
              " 5.8596,\n",
              " 5.2868,\n",
              " 5.956,\n",
              " 4.9643,\n",
              " 6.3434,\n",
              " 5.1773,\n",
              " 7.2354,\n",
              " 5.457,\n",
              " 7.5,\n",
              " 6.0194,\n",
              " 7.5544,\n",
              " 6.0666,\n",
              " 7.0548,\n",
              " 11.6017,\n",
              " 7.4882,\n",
              " 6.8976,\n",
              " 8.2049,\n",
              " 8.401,\n",
              " 6.8538,\n",
              " 8.317,\n",
              " 7.0175,\n",
              " 6.3302,\n",
              " 6.3624,\n",
              " 7.0549,\n",
              " 6.7851,\n",
              " 2.8929,\n",
              " 3.0812,\n",
              " 5.2402,\n",
              " 6.5217,\n",
              " 3.2632,\n",
              " 3.0298,\n",
              " 4.5428,\n",
              " 4.072,\n",
              " 5.3509,\n",
              " 3.1603,\n",
              " 4.7708,\n",
              " 8.1564,\n",
              " 8.8793,\n",
              " 6.8591,\n",
              " 6.0302,\n",
              " 7.508,\n",
              " 2.7477,\n",
              " 2.1944,\n",
              " 3.0149,\n",
              " 3.675,\n",
              " 3.225,\n",
              " 2.9345,\n",
              " 2.1429,\n",
              " 1.6121,\n",
              " 1.3929,\n",
              " 2.3173,\n",
              " 1.7772,\n",
              " 2.6458,\n",
              " 2.181,\n",
              " 2.2303,\n",
              " 1.6504,\n",
              " 2.2697,\n",
              " 2.1563,\n",
              " 2.1348,\n",
              " 2.6292,\n",
              " 2.3833,\n",
              " 2.957,\n",
              " 2.5238,\n",
              " 1.9375,\n",
              " 1.9028,\n",
              " 2.25,\n",
              " 2.3929,\n",
              " 2.1917,\n",
              " 2.9357,\n",
              " 1.8854,\n",
              " 2.1638,\n",
              " 2.125,\n",
              " 3.375,\n",
              " 2.2542,\n",
              " 2.1,\n",
              " 1.6,\n",
              " 3.625,\n",
              " 1.6929,\n",
              " 1.6471,\n",
              " 2.59,\n",
              " 2.57,\n",
              " 2.6429,\n",
              " 3.0257,\n",
              " 1.4886,\n",
              " 1.9338,\n",
              " 1.4844,\n",
              " 1.6009,\n",
              " 2.0375,\n",
              " 2.293,\n",
              " 2.1494,\n",
              " 1.6198,\n",
              " 1.3281,\n",
              " 3.5156,\n",
              " 3.9048,\n",
              " 3.0893,\n",
              " 2.6042,\n",
              " 2.5,\n",
              " 2.7969,\n",
              " 2.8321,\n",
              " 2.9583,\n",
              " 2.8365,\n",
              " 2.875,\n",
              " 3.0682,\n",
              " 3.0757,\n",
              " 4.9559,\n",
              " 4.7721,\n",
              " 3.4861,\n",
              " 5.1184,\n",
              " 4.0977,\n",
              " 4.744,\n",
              " 4.2727,\n",
              " 2.9844,\n",
              " 4.1739,\n",
              " 3.8487,\n",
              " 4.0114,\n",
              " 4.6563,\n",
              " 2.9297,\n",
              " 2.3036,\n",
              " 2.6667,\n",
              " 2.619,\n",
              " 2.4167,\n",
              " 2.7788,\n",
              " 2.7352,\n",
              " 1.8472,\n",
              " 2.6583,\n",
              " 3.0536,\n",
              " 2.3906,\n",
              " 1.7188,\n",
              " 2.625,\n",
              " 2.8015,\n",
              " 1.7276,\n",
              " 2.0801,\n",
              " 2.489,\n",
              " 1.7546,\n",
              " 4.0904,\n",
              " 2.6765,\n",
              " 2.4338,\n",
              " 2.3309,\n",
              " 2.2604,\n",
              " 1.8039,\n",
              " 2.2562,\n",
              " 2.0562,\n",
              " 3.5398,\n",
              " 3.1167,\n",
              " 2.5401,\n",
              " 2.898,\n",
              " 2.3125,\n",
              " 2.875,\n",
              " 3.3715,\n",
              " 3.5114,\n",
              " 4.3125,\n",
              " 3.22,\n",
              " 3.875,\n",
              " 5.2328,\n",
              " 3.7262,\n",
              " 4.5893,\n",
              " 5.2578,\n",
              " 7.0875,\n",
              " 3.9712,\n",
              " 2.9514,\n",
              " 2.6667,\n",
              " 5.4446,\n",
              " 6.2838,\n",
              " 6.7527,\n",
              " 7.0712,\n",
              " 5.9849,\n",
              " 3.6875,\n",
              " 2.875,\n",
              " 3.4205,\n",
              " 3.2984,\n",
              " 3.875,\n",
              " 4.175,\n",
              " 4.375,\n",
              " 4.7708,\n",
              " 3.5739,\n",
              " 3.0958,\n",
              " 3.3958,\n",
              " 1.871,\n",
              " 1.9356,\n",
              " 2.1842,\n",
              " 2.2917,\n",
              " 2.4333,\n",
              " 1.9479,\n",
              " 3.9063,\n",
              " 1.8407,\n",
              " 2.0786,\n",
              " 2.8125,\n",
              " 1.8913,\n",
              " 1.7056,\n",
              " 2.2768,\n",
              " 3.2552,\n",
              " 2.0556,\n",
              " 2.4659,\n",
              " 1.75,\n",
              " 2.0469,\n",
              " 2.7159,\n",
              " 1.2083,\n",
              " 1.925,\n",
              " 1.5809,\n",
              " 1.4097,\n",
              " 0.7683,\n",
              " 1.3194,\n",
              " 0.8012,\n",
              " 1.9479,\n",
              " 1.1765,\n",
              " 2.3456,\n",
              " 2.1538,\n",
              " 2.5139,\n",
              " 1.2625,\n",
              " 2.9063,\n",
              " 2.5192,\n",
              " 2.1111,\n",
              " 2.455,\n",
              " 2.4028,\n",
              " 2.15,\n",
              " 2.4776,\n",
              " 2.1587,\n",
              " 1.8438,\n",
              " 3.0298,\n",
              " 2.25,\n",
              " 2.2467,\n",
              " 4.0469,\n",
              " 1.325,\n",
              " 1.6196,\n",
              " 2.1731,\n",
              " 1.9167,\n",
              " 2.069,\n",
              " 1.712,\n",
              " 2.5625,\n",
              " 1.9821,\n",
              " 2.5043,\n",
              " 2.3281,\n",
              " 1.4375,\n",
              " 2.5122,\n",
              " 1.5625,\n",
              " 3.1587,\n",
              " 1.8426,\n",
              " 4.6696,\n",
              " 2.4598,\n",
              " 6.0749,\n",
              " 4.8304,\n",
              " 5.5701,\n",
              " 5.37,\n",
              " 6.86,\n",
              " 7.6923,\n",
              " 4.0313,\n",
              " 6.8323,\n",
              " 4.975,\n",
              " 5.3602,\n",
              " 5.0,\n",
              " 2.925,\n",
              " 3.8913,\n",
              " 3.225,\n",
              " 3.1458,\n",
              " 2.537,\n",
              " 2.5568,\n",
              " 3.5083,\n",
              " 3.3125,\n",
              " 1.8235,\n",
              " 3.8047,\n",
              " 2.2917,\n",
              " 2.4962,\n",
              " 4.0417,\n",
              " 3.4844,\n",
              " 4.1458,\n",
              " 2.625,\n",
              " 2.0227,\n",
              " 3.3333,\n",
              " 5.338,\n",
              " 3.4732,\n",
              " 3.5125,\n",
              " 3.1375,\n",
              " 2.8036,\n",
              " 4.5824,\n",
              " 3.0208,\n",
              " 4.0875,\n",
              " 4.5268,\n",
              " 1.7375,\n",
              " 3.1795,\n",
              " 3.8672,\n",
              " 5.1675,\n",
              " 5.1696,\n",
              " 4.2614,\n",
              " 5.0551,\n",
              " 5.6228,\n",
              " 7.8864,\n",
              " 7.9556,\n",
              " 6.174,\n",
              " 6.9414,\n",
              " 8.8342,\n",
              " 7.1754,\n",
              " 10.0825,\n",
              " 4.9083,\n",
              " 5.7912,\n",
              " 4.5893,\n",
              " 5.4171,\n",
              " 4.125,\n",
              " 7.266,\n",
              " 5.3989,\n",
              " 7.8336,\n",
              " 6.1593,\n",
              " 6.381,\n",
              " 6.6828,\n",
              " 7.5385,\n",
              " 6.7138,\n",
              " 6.2425,\n",
              " 5.7979,\n",
              " 4.2813,\n",
              " 3.5417,\n",
              " 3.0132,\n",
              " 4.1429,\n",
              " 4.1912,\n",
              " 3.9167,\n",
              " 3.8897,\n",
              " 3.1065,\n",
              " 2.9926,\n",
              " 3.556,\n",
              " 1.475,\n",
              " 1.6971,\n",
              " 2.1705,\n",
              " 2.75,\n",
              " 2.5682,\n",
              " 2.9,\n",
              " 2.2208,\n",
              " 3.2344,\n",
              " 3.5156,\n",
              " 1.9805,\n",
              " 2.6684,\n",
              " 3.875,\n",
              " 3.006,\n",
              " 2.543,\n",
              " 2.8676,\n",
              " 2.1907,\n",
              " 1.7778,\n",
              " 2.52,\n",
              " 4.2788,\n",
              " 2.944,\n",
              " 1.725,\n",
              " 5.2289,\n",
              " 2.5562,\n",
              " 0.949,\n",
              " 1.1696,\n",
              " 1.4012,\n",
              " 1.1859,\n",
              " 1.7464,\n",
              " 2.8846,\n",
              " 2.7372,\n",
              " 3.8594,\n",
              " 3.5625,\n",
              " 2.2788,\n",
              " 2.537,\n",
              " 2.525,\n",
              " 1.9946,\n",
              " 2.8214,\n",
              " 2.6165,\n",
              " 1.9483,\n",
              " 1.9327,\n",
              " 1.9798,\n",
              " 2.4167,\n",
              " 2.5417,\n",
              " 3.3906,\n",
              " 2.5652,\n",
              " 2.2845,\n",
              " 2.6071,\n",
              " 3.15,\n",
              " 2.6914,\n",
              " 1.8447,\n",
              " 1.6307,\n",
              " 2.9044,\n",
              " 2.9405,\n",
              " 3.3893,\n",
              " 3.0417,\n",
              " 7.0897,\n",
              " 5.0463,\n",
              " 1.7652,\n",
              " 7.8521,\n",
              " 9.3959,\n",
              " 5.3794,\n",
              " 3.2619,\n",
              " 2.7054,\n",
              " 2.2431,\n",
              " 1.9028,\n",
              " 1.5817,\n",
              " 2.2841,\n",
              " 1.3785,\n",
              " 2.9018,\n",
              " 1.73,\n",
              " 2.2625,\n",
              " 2.2106,\n",
              " 2.6997,\n",
              " 4.0018,\n",
              " 7.8772,\n",
              " 11.8603,\n",
              " 13.499,\n",
              " 12.2138,\n",
              " 8.1872,\n",
              " 12.3804,\n",
              " 5.8948,\n",
              " 8.1194,\n",
              " 8.7477,\n",
              " 6.155,\n",
              " 5.883,\n",
              " 5.2128,\n",
              " 4.7188,\n",
              " 5.2915,\n",
              " 2.6411,\n",
              " 3.3214,\n",
              " 3.6417,\n",
              " 3.0161,\n",
              " 3.1771,\n",
              " 3.4531,\n",
              " 4.3098,\n",
              " 3.3438,\n",
              " 2.9213,\n",
              " 2.6806,\n",
              " 3.7708,\n",
              " 3.9444,\n",
              " 5.2601,\n",
              " 2.5444,\n",
              " 2.6447,\n",
              " 2.5762,\n",
              " 1.9427,\n",
              " 2.9688,\n",
              " 3.75,\n",
              " 5.1702,\n",
              " 2.5139,\n",
              " 2.9732,\n",
              " 5.5337,\n",
              " 4.1667,\n",
              " 2.7115,\n",
              " 3.3269,\n",
              " 3.2685,\n",
              " 4.7778,\n",
              " 4.226,\n",
              " 3.3571,\n",
              " 2.9899,\n",
              " 2.875,\n",
              " 2.3882,\n",
              " 2.975,\n",
              " 5.1039,\n",
              " 4.1458,\n",
              " 3.4762,\n",
              " 2.6833,\n",
              " 5.75,\n",
              " 3.9632,\n",
              " 4.9489,\n",
              " 4.8711,\n",
              " 3.0718,\n",
              " 3.6719,\n",
              " 4.6094,\n",
              " 4.5213,\n",
              " 4.4562,\n",
              " 7.611,\n",
              " 3.2689,\n",
              " 3.567,\n",
              " 3.6875,\n",
              " 4.7695,\n",
              " 3.1972,\n",
              " 7.2634,\n",
              " 7.0568,\n",
              " 4.635,\n",
              " 5.3015,\n",
              " 4.9801,\n",
              " 5.4834,\n",
              " 6.187,\n",
              " 5.6194,\n",
              " 5.4639,\n",
              " 5.1498,\n",
              " 5.8382,\n",
              " 4.65,\n",
              " 4.3819,\n",
              " 3.7222,\n",
              " 5.2855,\n",
              " 4.3375,\n",
              " 5.2131,\n",
              " 6.005,\n",
              " 5.0519,\n",
              " 4.8237,\n",
              " 5.2497,\n",
              " 4.125,\n",
              " 4.6005,\n",
              " 3.5187,\n",
              " 3.0,\n",
              " 3.4934,\n",
              " 2.9861,\n",
              " 2.5362,\n",
              " 3.3021,\n",
              " 3.0964,\n",
              " 2.8512,\n",
              " 3.3478,\n",
              " 2.3958,\n",
              " 3.5295,\n",
              " 4.8036,\n",
              " 3.851,\n",
              " 4.0662,\n",
              " 4.6042,\n",
              " 2.2,\n",
              " 4.1164,\n",
              " 3.95,\n",
              " 4.9135,\n",
              " 2.8355,\n",
              " 3.25,\n",
              " 2.8301,\n",
              " 3.7159,\n",
              " 2.5625,\n",
              " 3.8047,\n",
              " 3.375,\n",
              " 3.244,\n",
              " 4.0268,\n",
              " 3.3906,\n",
              " 5.5461,\n",
              " 3.371,\n",
              " 3.5313,\n",
              " 3.663,\n",
              " 2.875,\n",
              " 4.0202,\n",
              " 4.5553,\n",
              " 3.4643,\n",
              " 3.3431,\n",
              " 2.1898,\n",
              " 2.9097,\n",
              " 3.375,\n",
              " 2.8125,\n",
              " 5.0,\n",
              " 3.0673,\n",
              " 3.8125,\n",
              " 6.9096,\n",
              " 7.912,\n",
              " 3.8393,\n",
              " 4.0,\n",
              " 6.5095,\n",
              " 3.5156,\n",
              " 2.983,\n",
              " 3.524,\n",
              " 3.1103,\n",
              " 3.5781,\n",
              " 3.1682,\n",
              " 2.6101,\n",
              " 3.6932,\n",
              " 3.4583,\n",
              " 3.9032,\n",
              " 4.0208,\n",
              " 3.5547,\n",
              " 4.5859,\n",
              " 2.6321,\n",
              " 3.395,\n",
              " 3.9702,\n",
              " 5.0043,\n",
              " 4.4659,\n",
              " 3.6625,\n",
              " 3.8864,\n",
              " 3.4583,\n",
              " 3.7813,\n",
              " 2.9917,\n",
              " 4.4375,\n",
              " 4.0,\n",
              " 2.3869,\n",
              " 4.7609,\n",
              " 5.4858,\n",
              " 4.3971,\n",
              " 4.0109,\n",
              " 4.3864,\n",
              " 4.2841,\n",
              " 5.1312,\n",
              " 2.9958,\n",
              " 3.6364,\n",
              " 2.7955,\n",
              " 2.9507,\n",
              " 3.4375,\n",
              " 2.875,\n",
              " 3.0345,\n",
              " 2.679,\n",
              " 2.9922,\n",
              " 4.1042,\n",
              " 2.5833,\n",
              " 2.1552,\n",
              " 2.3274,\n",
              " 2.4206,\n",
              " 3.9063,\n",
              " 2.6464,\n",
              " 3.4643,\n",
              " 2.3973,\n",
              " 6.5,\n",
              " 6.0574,\n",
              " 3.8958,\n",
              " 4.7813,\n",
              " 3.2829,\n",
              " 5.3169,\n",
              " 6.2579,\n",
              " 5.1701,\n",
              " 3.25,\n",
              " 3.1796,\n",
              " 2.4196,\n",
              " 2.6563,\n",
              " 0.9637,\n",
              " 2.3357,\n",
              " 3.5114,\n",
              " 3.3125,\n",
              " 2.4042,\n",
              " 2.8322,\n",
              " 2.5156,\n",
              " 3.4032,\n",
              " 2.535,\n",
              " 2.5772,\n",
              " 3.0962,\n",
              " 2.9564,\n",
              " 3.125,\n",
              " 2.95,\n",
              " 4.38,\n",
              " 4.0417,\n",
              " 3.8,\n",
              " 3.4839,\n",
              " 4.0588,\n",
              " 4.1974,\n",
              " 3.6,\n",
              " 4.267,\n",
              " 4.2386,\n",
              " 5.5797,\n",
              " 4.0682,\n",
              " 3.1734,\n",
              " 4.7933,\n",
              " 4.8125,\n",
              " 3.8676,\n",
              " 3.9395,\n",
              " 3.2434,\n",
              " 3.0917,\n",
              " 3.0645,\n",
              " 2.7019,\n",
              " 3.1115,\n",
              " 3.4722,\n",
              " 2.2222,\n",
              " 6.1104,\n",
              " 4.2733,\n",
              " 3.2465,\n",
              " 3.2417,\n",
              " 3.875,\n",
              " 6.0501,\n",
              " 6.8233,\n",
              " 6.3501,\n",
              " 2.6719,\n",
              " 3.875,\n",
              " 2.5625,\n",
              " 3.016,\n",
              " 2.7694,\n",
              " 3.6818,\n",
              " 2.1382,\n",
              " 3.7303,\n",
              " 3.875,\n",
              " 3.0489,\n",
              " 2.8203,\n",
              " 4.3897,\n",
              " 4.7143,\n",
              " 4.6875,\n",
              " 3.2091,\n",
              " 4.275,\n",
              " 4.1302,\n",
              " 3.09,\n",
              " 4.5417,\n",
              " 4.6635,\n",
              " 4.4427,\n",
              " 4.5303,\n",
              " 2.375,\n",
              " 3.8171,\n",
              " 4.5281,\n",
              " 4.3456,\n",
              " 3.4861,\n",
              " 5.2312,\n",
              " 3.6708,\n",
              " 3.8875,\n",
              " 3.9167,\n",
              " 3.9063,\n",
              " 3.7895,\n",
              " 3.8,\n",
              " 5.7309,\n",
              " 4.1141,\n",
              " 5.2838,\n",
              " 3.3479,\n",
              " 3.142,\n",
              " 3.7614,\n",
              " 4.25,\n",
              " 3.9338,\n",
              " 2.5158,\n",
              " 2.4808,\n",
              " 4.7083,\n",
              " 4.1652,\n",
              " 3.5541,\n",
              " 3.8036,\n",
              " 3.8259,\n",
              " 3.2331,\n",
              " 4.7109,\n",
              " 4.2468,\n",
              " 6.396,\n",
              " 3.8125,\n",
              " 3.2857,\n",
              " 3.8929,\n",
              " 3.7262,\n",
              " 4.0125,\n",
              " 4.1719,\n",
              " 4.2857,\n",
              " 3.6458,\n",
              " 2.6875,\n",
              " 3.7292,\n",
              " 4.5913,\n",
              " 3.8625,\n",
              " 3.3611,\n",
              " 2.8971,\n",
              " 4.0326,\n",
              " 4.0682,\n",
              " 5.3644,\n",
              " 4.7019,\n",
              " 5.64,\n",
              " 3.7931,\n",
              " 4.6458,\n",
              " 3.694,\n",
              " 2.652,\n",
              " 3.5,\n",
              " 3.2386,\n",
              " 5.097,\n",
              " 4.3875,\n",
              " 4.625,\n",
              " 5.0406,\n",
              " 5.8704,\n",
              " 5.3226,\n",
              " 4.235,\n",
              " 4.825,\n",
              " 5.5218,\n",
              " 6.5116,\n",
              " 6.0661,\n",
              " 6.0074,\n",
              " 4.6211,\n",
              " 5.225,\n",
              " 5.3428,\n",
              " 3.7462,\n",
              " 4.5721,\n",
              " 3.6923,\n",
              " 4.6786,\n",
              " 2.875,\n",
              " 3.3617,\n",
              " 5.7579,\n",
              " 2.9706,\n",
              " 3.9022,\n",
              " 4.6146,\n",
              " 5.7192,\n",
              " 3.6832,\n",
              " 6.2073,\n",
              " 5.8151,\n",
              " 5.8322,\n",
              " 5.6277,\n",
              " 5.2879,\n",
              " 6.5615,\n",
              " 5.6758,\n",
              " 6.1047,\n",
              " 3.5714,\n",
              " 6.0824,\n",
              " 4.3594,\n",
              " 5.5737,\n",
              " 4.8962,\n",
              " 4.6978,\n",
              " 4.4259,\n",
              " 3.3008,\n",
              " 4.5687,\n",
              " 3.8179,\n",
              " 5.0,\n",
              " 4.3393,\n",
              " 4.1387,\n",
              " 4.8052,\n",
              " 4.6349,\n",
              " 3.168,\n",
              " 3.1326,\n",
              " 2.9074,\n",
              " 8.3996,\n",
              " 6.6478,\n",
              " 6.629,\n",
              " 6.2179,\n",
              " 5.761,\n",
              " 4.6641,\n",
              " 6.7599,\n",
              " 3.9909,\n",
              " 4.2955,\n",
              " 4.9615,\n",
              " 2.6198,\n",
              " 4.7135,\n",
              " 4.75,\n",
              " 5.4299,\n",
              " 4.6,\n",
              " 4.1947,\n",
              " 5.388,\n",
              " 3.9444,\n",
              " 5.3283,\n",
              " 4.8403,\n",
              " 5.1616,\n",
              " 4.9167,\n",
              " 4.1591,\n",
              " 5.0,\n",
              " 5.8325,\n",
              " 5.7057,\n",
              " 5.0423,\n",
              " 4.5317,\n",
              " 5.4359,\n",
              " 5.0824,\n",
              " 5.2308,\n",
              " 4.4107,\n",
              " 5.2396,\n",
              " 4.7478,\n",
              " 8.4045,\n",
              " 9.7194,\n",
              " 5.1643,\n",
              " 5.3813,\n",
              " 6.0878,\n",
              " 6.868,\n",
              " 6.992,\n",
              " 4.9118,\n",
              " 4.4357,\n",
              " 4.9464,\n",
              " 5.2882,\n",
              " 5.1321,\n",
              " 3.9667,\n",
              " 3.1696,\n",
              " 5.0838,\n",
              " 4.8214,\n",
              " 4.1406,\n",
              " 3.7364,\n",
              " 3.535,\n",
              " 5.0739,\n",
              " 3.256,\n",
              " 6.0667,\n",
              " 5.7072,\n",
              " 4.9867,\n",
              " 5.1437,\n",
              " 5.347,\n",
              " 5.7233,\n",
              " 4.4697,\n",
              " 4.9107,\n",
              " 4.2281,\n",
              " 5.0143,\n",
              " 7.2494,\n",
              " 5.1406,\n",
              " 8.3337,\n",
              " 7.316,\n",
              " 6.4994,\n",
              " 7.2211,\n",
              " 4.4087,\n",
              " 5.9345,\n",
              " 6.177,\n",
              " 5.817,\n",
              " 6.3132,\n",
              " 6.3373,\n",
              " 7.333,\n",
              " 6.2918,\n",
              " 6.5214,\n",
              " 6.4524,\n",
              " 6.0604,\n",
              " 6.5285,\n",
              " 7.2639,\n",
              " 7.4353,\n",
              " 3.1127,\n",
              " 2.4896,\n",
              " 5.0677,\n",
              " 2.1187,\n",
              " 10.9506,\n",
              " 7.0691,\n",
              " 5.5,\n",
              " 4.9879,\n",
              " 6.8132,\n",
              " 5.6399,\n",
              " 4.1597,\n",
              " 5.7519,\n",
              " 5.6417,\n",
              " 10.3203,\n",
              " 4.3472,\n",
              " 6.6827,\n",
              " 3.62,\n",
              " 7.3588,\n",
              " 5.7239,\n",
              " 4.2083,\n",
              " 6.1023,\n",
              " 3.9864,\n",
              " 4.8624,\n",
              " 9.1531,\n",
              " 4.7361,\n",
              " 5.4324,\n",
              " 4.9375,\n",
              " ...]"
            ]
          },
          "metadata": {},
          "execution_count": 500
        }
      ]
    },
    {
      "cell_type": "code",
      "source": [
        "model.fit(X_train, Y_train)"
      ],
      "metadata": {
        "colab": {
          "base_uri": "https://localhost:8080/",
          "height": 248
        },
        "id": "BzlZem6L5I1B",
        "outputId": "86e3259b-e378-441f-bbfd-ca324d87f170"
      },
      "execution_count": 502,
      "outputs": [
        {
          "output_type": "execute_result",
          "data": {
            "text/plain": [
              "XGBRegressor(base_score=None, booster=None, callbacks=None,\n",
              "             colsample_bylevel=None, colsample_bynode=None,\n",
              "             colsample_bytree=None, device=None, early_stopping_rounds=None,\n",
              "             enable_categorical=False, eval_metric=None, feature_types=None,\n",
              "             gamma=None, grow_policy=None, importance_type=None,\n",
              "             interaction_constraints=None, learning_rate=None, max_bin=None,\n",
              "             max_cat_threshold=None, max_cat_to_onehot=None,\n",
              "             max_delta_step=None, max_depth=None, max_leaves=None,\n",
              "             min_child_weight=None, missing=nan, monotone_constraints=None,\n",
              "             multi_strategy=None, n_estimators=None, n_jobs=None,\n",
              "             num_parallel_tree=None, random_state=None, ...)"
            ],
            "text/html": [
              "<style>#sk-container-id-1 {color: black;background-color: white;}#sk-container-id-1 pre{padding: 0;}#sk-container-id-1 div.sk-toggleable {background-color: white;}#sk-container-id-1 label.sk-toggleable__label {cursor: pointer;display: block;width: 100%;margin-bottom: 0;padding: 0.3em;box-sizing: border-box;text-align: center;}#sk-container-id-1 label.sk-toggleable__label-arrow:before {content: \"▸\";float: left;margin-right: 0.25em;color: #696969;}#sk-container-id-1 label.sk-toggleable__label-arrow:hover:before {color: black;}#sk-container-id-1 div.sk-estimator:hover label.sk-toggleable__label-arrow:before {color: black;}#sk-container-id-1 div.sk-toggleable__content {max-height: 0;max-width: 0;overflow: hidden;text-align: left;background-color: #f0f8ff;}#sk-container-id-1 div.sk-toggleable__content pre {margin: 0.2em;color: black;border-radius: 0.25em;background-color: #f0f8ff;}#sk-container-id-1 input.sk-toggleable__control:checked~div.sk-toggleable__content {max-height: 200px;max-width: 100%;overflow: auto;}#sk-container-id-1 input.sk-toggleable__control:checked~label.sk-toggleable__label-arrow:before {content: \"▾\";}#sk-container-id-1 div.sk-estimator input.sk-toggleable__control:checked~label.sk-toggleable__label {background-color: #d4ebff;}#sk-container-id-1 div.sk-label input.sk-toggleable__control:checked~label.sk-toggleable__label {background-color: #d4ebff;}#sk-container-id-1 input.sk-hidden--visually {border: 0;clip: rect(1px 1px 1px 1px);clip: rect(1px, 1px, 1px, 1px);height: 1px;margin: -1px;overflow: hidden;padding: 0;position: absolute;width: 1px;}#sk-container-id-1 div.sk-estimator {font-family: monospace;background-color: #f0f8ff;border: 1px dotted black;border-radius: 0.25em;box-sizing: border-box;margin-bottom: 0.5em;}#sk-container-id-1 div.sk-estimator:hover {background-color: #d4ebff;}#sk-container-id-1 div.sk-parallel-item::after {content: \"\";width: 100%;border-bottom: 1px solid gray;flex-grow: 1;}#sk-container-id-1 div.sk-label:hover label.sk-toggleable__label {background-color: #d4ebff;}#sk-container-id-1 div.sk-serial::before {content: \"\";position: absolute;border-left: 1px solid gray;box-sizing: border-box;top: 0;bottom: 0;left: 50%;z-index: 0;}#sk-container-id-1 div.sk-serial {display: flex;flex-direction: column;align-items: center;background-color: white;padding-right: 0.2em;padding-left: 0.2em;position: relative;}#sk-container-id-1 div.sk-item {position: relative;z-index: 1;}#sk-container-id-1 div.sk-parallel {display: flex;align-items: stretch;justify-content: center;background-color: white;position: relative;}#sk-container-id-1 div.sk-item::before, #sk-container-id-1 div.sk-parallel-item::before {content: \"\";position: absolute;border-left: 1px solid gray;box-sizing: border-box;top: 0;bottom: 0;left: 50%;z-index: -1;}#sk-container-id-1 div.sk-parallel-item {display: flex;flex-direction: column;z-index: 1;position: relative;background-color: white;}#sk-container-id-1 div.sk-parallel-item:first-child::after {align-self: flex-end;width: 50%;}#sk-container-id-1 div.sk-parallel-item:last-child::after {align-self: flex-start;width: 50%;}#sk-container-id-1 div.sk-parallel-item:only-child::after {width: 0;}#sk-container-id-1 div.sk-dashed-wrapped {border: 1px dashed gray;margin: 0 0.4em 0.5em 0.4em;box-sizing: border-box;padding-bottom: 0.4em;background-color: white;}#sk-container-id-1 div.sk-label label {font-family: monospace;font-weight: bold;display: inline-block;line-height: 1.2em;}#sk-container-id-1 div.sk-label-container {text-align: center;}#sk-container-id-1 div.sk-container {/* jupyter's `normalize.less` sets `[hidden] { display: none; }` but bootstrap.min.css set `[hidden] { display: none !important; }` so we also need the `!important` here to be able to override the default hidden behavior on the sphinx rendered scikit-learn.org. See: https://github.com/scikit-learn/scikit-learn/issues/21755 */display: inline-block !important;position: relative;}#sk-container-id-1 div.sk-text-repr-fallback {display: none;}</style><div id=\"sk-container-id-1\" class=\"sk-top-container\"><div class=\"sk-text-repr-fallback\"><pre>XGBRegressor(base_score=None, booster=None, callbacks=None,\n",
              "             colsample_bylevel=None, colsample_bynode=None,\n",
              "             colsample_bytree=None, device=None, early_stopping_rounds=None,\n",
              "             enable_categorical=False, eval_metric=None, feature_types=None,\n",
              "             gamma=None, grow_policy=None, importance_type=None,\n",
              "             interaction_constraints=None, learning_rate=None, max_bin=None,\n",
              "             max_cat_threshold=None, max_cat_to_onehot=None,\n",
              "             max_delta_step=None, max_depth=None, max_leaves=None,\n",
              "             min_child_weight=None, missing=nan, monotone_constraints=None,\n",
              "             multi_strategy=None, n_estimators=None, n_jobs=None,\n",
              "             num_parallel_tree=None, random_state=None, ...)</pre><b>In a Jupyter environment, please rerun this cell to show the HTML representation or trust the notebook. <br />On GitHub, the HTML representation is unable to render, please try loading this page with nbviewer.org.</b></div><div class=\"sk-container\" hidden><div class=\"sk-item\"><div class=\"sk-estimator sk-toggleable\"><input class=\"sk-toggleable__control sk-hidden--visually\" id=\"sk-estimator-id-1\" type=\"checkbox\" checked><label for=\"sk-estimator-id-1\" class=\"sk-toggleable__label sk-toggleable__label-arrow\">XGBRegressor</label><div class=\"sk-toggleable__content\"><pre>XGBRegressor(base_score=None, booster=None, callbacks=None,\n",
              "             colsample_bylevel=None, colsample_bynode=None,\n",
              "             colsample_bytree=None, device=None, early_stopping_rounds=None,\n",
              "             enable_categorical=False, eval_metric=None, feature_types=None,\n",
              "             gamma=None, grow_policy=None, importance_type=None,\n",
              "             interaction_constraints=None, learning_rate=None, max_bin=None,\n",
              "             max_cat_threshold=None, max_cat_to_onehot=None,\n",
              "             max_delta_step=None, max_depth=None, max_leaves=None,\n",
              "             min_child_weight=None, missing=nan, monotone_constraints=None,\n",
              "             multi_strategy=None, n_estimators=None, n_jobs=None,\n",
              "             num_parallel_tree=None, random_state=None, ...)</pre></div></div></div></div></div>"
            ]
          },
          "metadata": {},
          "execution_count": 502
        }
      ]
    },
    {
      "cell_type": "code",
      "source": [
        "training_data_prediction=model.predict(X_train)"
      ],
      "metadata": {
        "id": "i1vZkwvl5Ixt"
      },
      "execution_count": 503,
      "outputs": []
    },
    {
      "cell_type": "code",
      "source": [
        "print(training_data_prediction)"
      ],
      "metadata": {
        "colab": {
          "base_uri": "https://localhost:8080/"
        },
        "id": "ErbKrwba5Iu9",
        "outputId": "e4819272-03e9-49fc-bac0-62e3c0557fcc"
      },
      "execution_count": 504,
      "outputs": [
        {
          "output_type": "stream",
          "name": "stdout",
          "text": [
            "[1.7997783 6.951314  1.8129938 ... 3.7587268 2.240801  2.4026408]\n"
          ]
        }
      ]
    },
    {
      "cell_type": "markdown",
      "source": [
        "#Evaluation Phase"
      ],
      "metadata": {
        "id": "wm_ZcKjA5kkH"
      }
    },
    {
      "cell_type": "code",
      "source": [],
      "metadata": {
        "id": "kyq6y5OM5Is1"
      },
      "execution_count": null,
      "outputs": []
    },
    {
      "cell_type": "code",
      "source": [
        "#R^2  (R- Square)\n",
        "score_1=metrics.r2_score(Y_train, training_data_prediction)\n",
        "#Mean Absolute Error\n",
        "score_2=metrics.mean_absolute_error(Y_train, training_data_prediction)"
      ],
      "metadata": {
        "id": "CuP3ble25Ipp"
      },
      "execution_count": 508,
      "outputs": []
    },
    {
      "cell_type": "code",
      "source": [
        "print(\"R^2 Error: \", score_1)\n",
        "print(\"Mean Absolute Error: \", score_2)"
      ],
      "metadata": {
        "colab": {
          "base_uri": "https://localhost:8080/"
        },
        "id": "wrFpAJR07Q6i",
        "outputId": "4982f9da-887a-4166-b7c5-f3ff21a862d0"
      },
      "execution_count": 509,
      "outputs": [
        {
          "output_type": "stream",
          "name": "stdout",
          "text": [
            "R^2 Error:  0.9336592798828024\n",
            "Mean Absolute Error:  0.36781328983357137\n"
          ]
        }
      ]
    },
    {
      "cell_type": "code",
      "source": [
        "testing_data_prediction=model.predict(X_test)"
      ],
      "metadata": {
        "id": "pGHxJXeh5InA"
      },
      "execution_count": 513,
      "outputs": []
    },
    {
      "cell_type": "code",
      "source": [
        "score1_test=metrics.r2_score(Y_test, testing_data_prediction)\n",
        "score2_test=metrics.mean_absolute_error(Y_test, testing_data_prediction)"
      ],
      "metadata": {
        "id": "HZYsXzsY5Ikm"
      },
      "execution_count": 514,
      "outputs": []
    },
    {
      "cell_type": "code",
      "source": [
        "print(\"R^2 Error: \", score1_test)\n",
        "print(\"Mean Absolute Error: \", score2_test)"
      ],
      "metadata": {
        "colab": {
          "base_uri": "https://localhost:8080/"
        },
        "id": "C3DlL71F858c",
        "outputId": "63b9451a-cc57-444f-ad42-0c6b7783d775"
      },
      "execution_count": 515,
      "outputs": [
        {
          "output_type": "stream",
          "name": "stdout",
          "text": [
            "R^2 Error:  0.8044795741728923\n",
            "Mean Absolute Error:  0.588140578418716\n"
          ]
        }
      ]
    },
    {
      "cell_type": "code",
      "source": [
        "#Plotting the scatter plot of the Actual vs Predicted Outcome\n",
        "plt.scatter(Y_train, training_data_prediction)\n",
        "plt.xlabel('Actual Outcome')\n",
        "plt.ylabel('Predicted Outcome')\n",
        "plt.title('Actual Vs Predictied Outcome')\n",
        "plt.show()   #In the below graph we can see that both value are in the similar range"
      ],
      "metadata": {
        "colab": {
          "base_uri": "https://localhost:8080/",
          "height": 472
        },
        "id": "J5D2Amqk9A2g",
        "outputId": "d4b5aed9-b50b-40f2-d432-72958b3a311d"
      },
      "execution_count": 518,
      "outputs": [
        {
          "output_type": "display_data",
          "data": {
            "text/plain": [
              "<Figure size 640x480 with 1 Axes>"
            ],
            "image/png": "[encoded data removed]"
          },
          "metadata": {}
        }
      ]
    },
    {
      "cell_type": "code",
      "source": [],
      "metadata": {
        "id": "T2eybK_v-Cbo"
      },
      "execution_count": null,
      "outputs": []
    }
  ]
}